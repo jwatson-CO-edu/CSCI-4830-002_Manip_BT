{
 "cells": [
  {
   "cell_type": "code",
   "execution_count": 1,
   "id": "0515e4f8-0fce-4ea5-8c95-4636c661993c",
   "metadata": {},
   "outputs": [
    {
     "name": "stdout",
     "output_type": "stream",
     "text": [
      "Python Version: 3.8.10 (default, Nov 26 2021, 20:14:08) \n",
      "[GCC 9.3.0]\n"
     ]
    }
   ],
   "source": [
    "import sys\n",
    "print(\"Python Version:\", sys.version ) #, ',', sys.version_info)\n",
    "\n",
    "########## INIT ####################################################################################\n",
    "from time import sleep\n",
    "\n",
    "## Behavior Trees, https://py-trees.readthedocs.io/en/devel/introduction.html ##\n",
    "import py_trees\n",
    "from py_trees.behaviour import Behaviour\n",
    "from py_trees.common import Status\n",
    "from py_trees.decorators import FailureIsRunning\n",
    "from py_trees.composites import Sequence\n",
    "from py_trees.behaviours import TickCounter\n",
    "## Other ##\n",
    "from numpy import pi"
   ]
  },
  {
   "cell_type": "code",
   "execution_count": 2,
   "id": "ee87218f-fec3-45d8-ae67-2a13d3ca818e",
   "metadata": {},
   "outputs": [
    {
     "data": {
      "text/plain": [
       "<py_trees.composites.Sequence at 0x7f11b4133f70>"
      ]
     },
     "execution_count": 2,
     "metadata": {},
     "output_type": "execute_result"
    }
   ],
   "source": [
    "rootNode = Sequence()\n",
    "\n",
    "rootNode.add_children([\n",
    "    TickCounter( 2, \"Tick 1\" ),\n",
    "    TickCounter( 2, \"Tick 2\" ),\n",
    "    TickCounter( 2, \"Tick 3\" ),\n",
    "])"
   ]
  },
  {
   "cell_type": "code",
   "execution_count": 3,
   "id": "1d872942-83c9-4079-a731-648f2a3e2d48",
   "metadata": {},
   "outputs": [
    {
     "name": "stdout",
     "output_type": "stream",
     "text": [
      "\n",
      "--------- Tick 0 ---------\n",
      "\n",
      "{-} Sequence [*]\n",
      "    --> Tick 1 [*]\n",
      "    --> Tick 2 [-]\n",
      "    --> Tick 3 [-]\n",
      "\n",
      "\n",
      "\n",
      "\n",
      "--------- Tick 1 ---------\n",
      "\n",
      "{-} Sequence [*]\n",
      "    --> Tick 1 [*]\n",
      "    --> Tick 2 [-]\n",
      "    --> Tick 3 [-]\n",
      "\n",
      "\n",
      "\n",
      "\n",
      "--------- Tick 2 ---------\n",
      "\n",
      "{-} Sequence [*]\n",
      "    --> Tick 1 [✓]\n",
      "    --> Tick 2 [*]\n",
      "    --> Tick 3 [-]\n",
      "\n",
      "\n",
      "\n",
      "\n",
      "--------- Tick 3 ---------\n",
      "\n",
      "{-} Sequence [*]\n",
      "    --> Tick 1 [✓]\n",
      "    --> Tick 2 [*]\n",
      "    --> Tick 3 [-]\n",
      "\n",
      "\n",
      "\n",
      "\n",
      "--------- Tick 4 ---------\n",
      "\n",
      "{-} Sequence [*]\n",
      "    --> Tick 1 [✓]\n",
      "    --> Tick 2 [✓]\n",
      "    --> Tick 3 [*]\n",
      "\n",
      "\n",
      "\n",
      "\n",
      "--------- Tick 5 ---------\n",
      "\n",
      "{-} Sequence [*]\n",
      "    --> Tick 1 [✓]\n",
      "    --> Tick 2 [✓]\n",
      "    --> Tick 3 [*]\n",
      "\n",
      "\n",
      "\n",
      "\n",
      "--------- Tick 6 ---------\n",
      "\n",
      "{-} Sequence [✓]\n",
      "    --> Tick 1 [✓]\n",
      "    --> Tick 2 [✓]\n",
      "    --> Tick 3 [✓]\n",
      "\n",
      "\n",
      "\n",
      "\n",
      "--------- Tick 7 ---------\n",
      "\n",
      "{-} Sequence [*]\n",
      "    --> Tick 1 [*]\n",
      "    --> Tick 2 [-]\n",
      "    --> Tick 3 [-]\n",
      "\n",
      "\n",
      "\n",
      "\n",
      "--------- Tick 8 ---------\n",
      "\n",
      "{-} Sequence [*]\n",
      "    --> Tick 1 [*]\n",
      "    --> Tick 2 [-]\n",
      "    --> Tick 3 [-]\n",
      "\n",
      "\n",
      "\n",
      "\n",
      "--------- Tick 9 ---------\n",
      "\n",
      "{-} Sequence [*]\n",
      "    --> Tick 1 [✓]\n",
      "    --> Tick 2 [*]\n",
      "    --> Tick 3 [-]\n",
      "\n",
      "\n",
      "\n"
     ]
    }
   ],
   "source": [
    "rootNode.setup_with_descendants() # ------ Get tree ready to execute\n",
    "\n",
    "for i in range( 10 ):\n",
    "    \n",
    "    # Send a tick down the tree from the root node\n",
    "    rootNode.tick_once() \n",
    "    \n",
    "    # Print the present state of the tree\n",
    "    print( f\"\\n--------- Tick {i} ---------\\n\" )\n",
    "    print( py_trees.display.unicode_tree(root=rootNode, show_status=True) )\n",
    "    print(\"\\n\")\n",
    "    \n",
    "    # Pause\n",
    "    sleep( 0.25 )"
   ]
  },
  {
   "cell_type": "code",
   "execution_count": null,
   "id": "272ea622-78a6-48a9-a191-8c329f578b83",
   "metadata": {},
   "outputs": [],
   "source": []
  }
 ],
 "metadata": {
  "kernelspec": {
   "display_name": "Python 3 (ipykernel)",
   "language": "python",
   "name": "python3"
  },
  "language_info": {
   "codemirror_mode": {
    "name": "ipython",
    "version": 3
   },
   "file_extension": ".py",
   "mimetype": "text/x-python",
   "name": "python",
   "nbconvert_exporter": "python",
   "pygments_lexer": "ipython3",
   "version": "3.8.10"
  }
 },
 "nbformat": 4,
 "nbformat_minor": 5
}
