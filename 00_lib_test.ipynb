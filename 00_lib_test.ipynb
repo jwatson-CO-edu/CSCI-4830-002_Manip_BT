{
 "cells": [
  {
   "cell_type": "code",
   "execution_count": 1,
   "id": "0515e4f8-0fce-4ea5-8c95-4636c661993c",
   "metadata": {},
   "outputs": [
    {
     "name": "stdout",
     "output_type": "stream",
     "text": [
      "Python Version: 3.8.10 (default, Nov 26 2021, 20:14:08) \n",
      "[GCC 9.3.0]\n"
     ]
    }
   ],
   "source": [
    "import sys\n",
    "print(\"Python Version:\", sys.version ) #, ',', sys.version_info)\n",
    "\n",
    "import py_trees"
   ]
  },
  {
   "cell_type": "code",
   "execution_count": null,
   "id": "ee87218f-fec3-45d8-ae67-2a13d3ca818e",
   "metadata": {},
   "outputs": [],
   "source": []
  }
 ],
 "metadata": {
  "kernelspec": {
   "display_name": "Python 3 (ipykernel)",
   "language": "python",
   "name": "python3"
  },
  "language_info": {
   "codemirror_mode": {
    "name": "ipython",
    "version": 3
   },
   "file_extension": ".py",
   "mimetype": "text/x-python",
   "name": "python",
   "nbconvert_exporter": "python",
   "pygments_lexer": "ipython3",
   "version": "3.8.10"
  }
 },
 "nbformat": 4,
 "nbformat_minor": 5
}
